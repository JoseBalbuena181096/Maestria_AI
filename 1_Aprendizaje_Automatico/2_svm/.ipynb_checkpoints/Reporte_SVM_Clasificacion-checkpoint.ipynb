{
 "cells": [
  {
   "cell_type": "markdown",
   "metadata": {},
   "source": [
    "# Reporte: Clasificación con Support Vector Machines (SVM)\n",
    "\n",
    "**Autor:** José  \n",
    "**Fecha:** Enero 2025  \n",
    "**Curso:** Maestría en IA - Aprendizaje Automático  \n",
    "\n",
    "---\n",
    "\n",
    "## Resumen Ejecutivo\n",
    "\n",
    "Este reporte presenta un análisis completo de clasificación utilizando Support Vector Machines (SVM) con diferentes kernels. El estudio incluye la implementación, optimización y evaluación de modelos SVM para un problema de clasificación binaria, demostrando las capacidades de este algoritmo en la separación de clases no linealmente separables.\n",
    "\n",
    "## Objetivos\n",
    "\n",
    "1. **Implementar** modelos SVM con diferentes kernels (linear, polynomial, RBF, sigmoid)\n",
    "2. **Comparar** el rendimiento de los diferentes kernels\n",
    "3. **Optimizar** hiperparámetros usando validación cruzada\n",
    "4. **Visualizar** las regiones de decisión generadas por los modelos\n",
    "5. **Evaluar** el modelo final con métricas de rendimiento"
   ]
  },
  {
   "cell_type": "markdown",
   "metadata": {},
   "source": [
    "## 1. Introducción Teórica\n",
    "\n",
    "### Support Vector Machines (SVM)\n",
    "\n",
    "Las Support Vector Machines son algoritmos de aprendizaje supervisado utilizados para clasificación y regresión. El principio fundamental de SVM es encontrar el hiperplano óptimo que separe las clases con el margen máximo.\n",
    "\n",
    "### Kernels en SVM\n",
    "\n",
    "Los kernels permiten a SVM manejar datos no linealmente separables transformando el espacio de características:\n",
    "\n",
    "- **Linear**: $K(x_i, x_j) = x_i^T x_j$\n",
    "- **Polynomial**: $K(x_i, x_j) = (\\gamma x_i^T x_j + r)^d$\n",
    "- **RBF (Radial Basis Function)**: $K(x_i, x_j) = \\exp(-\\gamma ||x_i - x_j||^2)$\n",
    "- **Sigmoid**: $K(x_i, x_j) = \\tanh(\\gamma x_i^T x_j + r)$\n",
    "\n",
    "### Hiperparámetros Clave\n",
    "\n",
    "- **C**: Parámetro de regularización que controla el trade-off entre margen y error de clasificación\n",
    "- **γ (gamma)**: Controla la influencia de cada punto de entrenamiento\n",
    "- **degree**: Grado del kernel polinomial"
   ]
  },
  {
   "cell_type": "markdown",
   "metadata": {},
   "source": [
    "## 2. Configuración del Entorno"
   ]
  },
  {
   "cell_type": "code",
   "execution_count": 16,
   "metadata": {},
   "outputs": [
    {
     "name": "stdout",
     "output_type": "stream",
     "text": [
      "✅ Librerías importadas correctamente\n",
      "📊 Versión de pandas: 2.3.3\n",
      "🔢 Versión de numpy: 1.26.4\n"
     ]
    }
   ],
   "source": [
    "# Tratamiento de datos\n",
    "import pandas as pd\n",
    "import numpy as np\n",
    "\n",
    "# Gráficos\n",
    "import matplotlib.pyplot as plt\n",
    "from matplotlib import style\n",
    "import seaborn as sns\n",
    "from mlxtend.plotting import plot_decision_regions\n",
    "\n",
    "# Preprocesado y modelado\n",
    "from sklearn.svm import SVC\n",
    "from sklearn.model_selection import train_test_split\n",
    "from sklearn.model_selection import GridSearchCV\n",
    "from sklearn.metrics import accuracy_score, classification_report, confusion_matrix\n",
    "\n",
    "# Configuración matplotlib\n",
    "plt.rcParams['image.cmap'] = \"bwr\"\n",
    "plt.rcParams['savefig.bbox'] = \"tight\"\n",
    "style.use('ggplot') or plt.style.use('ggplot')\n",
    "\n",
    "# Configuración warnings\n",
    "import warnings\n",
    "warnings.filterwarnings('ignore')\n",
    "\n",
    "print(\"✅ Librerías importadas correctamente\")\n",
    "print(f\"📊 Versión de pandas: {pd.__version__}\")\n",
    "print(f\"🔢 Versión de numpy: {np.__version__}\")"
   ]
  },
  {
   "cell_type": "markdown",
   "metadata": {},
   "source": [
    "## 3. Definición de la Clase SVMClassifier\n",
    "\n",
    "Implementamos una clase que encapsula todo el proceso de clasificación SVM para facilitar la reutilización y organización del código."
   ]
  },
  {
   "cell_type": "code",
   "execution_count": 17,
   "metadata": {},
   "outputs": [
    {
     "name": "stdout",
     "output_type": "stream",
     "text": [
      "✅ Clase SVMClassifier definida correctamente\n"
     ]
    }
   ],
   "source": [
    "class SVMClassifier:\n",
    "    \"\"\"\n",
    "    Clase para implementar clasificación con Support Vector Machines.\n",
    "    \n",
    "    Esta clase encapsula todo el proceso de clasificación SVM incluyendo:\n",
    "    - Carga de datos\n",
    "    - Entrenamiento de modelos\n",
    "    - Optimización de hiperparámetros\n",
    "    - Visualización de resultados\n",
    "    - Evaluación del modelo\n",
    "    \"\"\"\n",
    "    \n",
    "    def __init__(self):\n",
    "        \"\"\"\n",
    "        Inicializa la clase SVMClassifier.\n",
    "        \"\"\"\n",
    "        self.data = None\n",
    "        self.X = None\n",
    "        self.y = None\n",
    "        self.X_train = None\n",
    "        self.X_test = None\n",
    "        self.y_train = None\n",
    "        self.y_test = None\n",
    "        self.models = {}\n",
    "        self.best_model = None\n",
    "        \n",
    "    def load_data(self, url=None):\n",
    "        \"\"\"\n",
    "        Carga los datos desde una URL o utiliza datos por defecto.\n",
    "        \n",
    "        Parameters:\n",
    "        -----------\n",
    "        url : str, optional\n",
    "            URL del dataset. Si no se proporciona, usa el dataset por defecto.\n",
    "            \n",
    "        Returns:\n",
    "        --------\n",
    "        pd.DataFrame\n",
    "            DataFrame con los datos cargados\n",
    "        \"\"\"\n",
    "        if url is None:\n",
    "            url = ('https://raw.githubusercontent.com/JoaquinAmatRodrigo/'\n",
    "                   'Estadistica-machine-learning-python/master/data/ESL.mixture.csv')\n",
    "        \n",
    "        try:\n",
    "            self.data = pd.read_csv(url)\n",
    "            print(f\"Datos cargados exitosamente. Forma: {self.data.shape}\")\n",
    "            print(\"\\nPrimeras 5 filas:\")\n",
    "            print(self.data.head())\n",
    "            \n",
    "            # Separar características y variable objetivo\n",
    "            self.X = self.data[['X1', 'X2']].values\n",
    "            self.y = self.data['y'].values\n",
    "            \n",
    "            return self.data\n",
    "            \n",
    "        except Exception as e:\n",
    "            print(f\"Error al cargar los datos: {e}\")\n",
    "            return None\n",
    "    \n",
    "    def explore_data(self):\n",
    "        \"\"\"\n",
    "        Realiza un análisis exploratorio básico de los datos.\n",
    "        \"\"\"\n",
    "        if self.data is None:\n",
    "            print(\"Error: No hay datos cargados. Ejecute load_data() primero.\")\n",
    "            return\n",
    "        \n",
    "        print(\"=\" * 50)\n",
    "        print(\"ANÁLISIS EXPLORATORIO DE DATOS\")\n",
    "        print(\"=\" * 50)\n",
    "        \n",
    "        print(f\"\\nForma del dataset: {self.data.shape}\")\n",
    "        print(f\"\\nTipos de datos:\")\n",
    "        print(self.data.dtypes)\n",
    "        \n",
    "        print(f\"\\nEstadísticas descriptivas:\")\n",
    "        print(self.data.describe())\n",
    "        \n",
    "        print(f\"\\nDistribución de clases:\")\n",
    "        print(self.data['y'].value_counts())\n",
    "        \n",
    "        print(f\"\\nValores faltantes:\")\n",
    "        print(self.data.isnull().sum())\n",
    "    \n",
    "    def visualize_data(self, save_plot=False, filename='data_visualization.png'):\n",
    "        \"\"\"\n",
    "        Visualiza los datos en un gráfico de dispersión.\n",
    "        \n",
    "        Parameters:\n",
    "        -----------\n",
    "        save_plot : bool, default=False\n",
    "            Si True, guarda el gráfico en un archivo\n",
    "        filename : str, default='data_visualization.png'\n",
    "            Nombre del archivo para guardar el gráfico\n",
    "        \"\"\"\n",
    "        if self.data is None:\n",
    "            print(\"Error: No hay datos cargados. Ejecute load_data() primero.\")\n",
    "            return\n",
    "        \n",
    "        plt.figure(figsize=(10, 8))\n",
    "        \n",
    "        # Crear gráfico de dispersión coloreado por clase\n",
    "        colors = ['red' if label == 0 else 'blue' for label in self.y]\n",
    "        plt.scatter(self.X[:, 0], self.X[:, 1], c=colors, alpha=0.7, s=50)\n",
    "        \n",
    "        plt.xlabel('X1', fontsize=12)\n",
    "        plt.ylabel('X2', fontsize=12)\n",
    "        plt.title('Distribución de los datos por clase', fontsize=14, fontweight='bold')\n",
    "        plt.grid(True, alpha=0.3)\n",
    "        \n",
    "        # Añadir leyenda\n",
    "        plt.scatter([], [], c='red', alpha=0.7, s=50, label='Clase 0')\n",
    "        plt.scatter([], [], c='blue', alpha=0.7, s=50, label='Clase 1')\n",
    "        plt.legend()\n",
    "        \n",
    "        if save_plot:\n",
    "            plt.savefig(filename, dpi=300, bbox_inches='tight')\n",
    "            print(f\"Gráfico guardado como: {filename}\")\n",
    "        \n",
    "        plt.show()\n",
    "    \n",
    "    def split_data(self, test_size=0.2, random_state=42):\n",
    "        \"\"\"\n",
    "        Divide los datos en conjuntos de entrenamiento y prueba.\n",
    "        \n",
    "        Parameters:\n",
    "        -----------\n",
    "        test_size : float, default=0.2\n",
    "            Proporción del dataset para el conjunto de prueba\n",
    "        random_state : int, default=42\n",
    "            Semilla para reproducibilidad\n",
    "        \"\"\"\n",
    "        if self.X is None or self.y is None:\n",
    "            print(\"Error: No hay datos cargados. Ejecute load_data() primero.\")\n",
    "            return\n",
    "        \n",
    "        self.X_train, self.X_test, self.y_train, self.y_test = train_test_split(\n",
    "            self.X, self.y, test_size=test_size, random_state=random_state, stratify=self.y\n",
    "        )\n",
    "        \n",
    "        print(f\"Datos divididos:\")\n",
    "        print(f\"  - Entrenamiento: {self.X_train.shape[0]} muestras\")\n",
    "        print(f\"  - Prueba: {self.X_test.shape[0]} muestras\")\n",
    "\n",
    "print(\"✅ Clase SVMClassifier definida correctamente\")"
   ]
  },
  {
   "cell_type": "markdown",
   "metadata": {},
   "source": [
    "## 4. Métodos de Entrenamiento y Optimización"
   ]
  },
  {
   "cell_type": "code",
   "execution_count": 18,
   "metadata": {},
   "outputs": [
    {
     "name": "stdout",
     "output_type": "stream",
     "text": [
      "✅ Métodos de entrenamiento agregados a la clase\n"
     ]
    }
   ],
   "source": [
    "# Continuación de la clase SVMClassifier - Métodos de entrenamiento\n",
    "\n",
    "def train_svm_models(self):\n",
    "    \"\"\"\n",
    "    Entrena modelos SVM con diferentes kernels.\n",
    "    \n",
    "    Returns:\n",
    "    --------\n",
    "    dict\n",
    "        Diccionario con los modelos entrenados\n",
    "    \"\"\"\n",
    "    if self.X_train is None:\n",
    "        print(\"Error: Datos no divididos. Ejecute split_data() primero.\")\n",
    "        return None\n",
    "    \n",
    "    print(\"=\" * 50)\n",
    "    print(\"ENTRENAMIENTO DE MODELOS SVM\")\n",
    "    print(\"=\" * 50)\n",
    "    \n",
    "    # Definir diferentes kernels a probar\n",
    "    kernels = ['linear', 'poly', 'rbf', 'sigmoid']\n",
    "    \n",
    "    for kernel in kernels:\n",
    "        print(f\"\\nEntrenando SVM con kernel {kernel}...\")\n",
    "        \n",
    "        # Crear y entrenar el modelo\n",
    "        model = SVC(kernel=kernel, random_state=42)\n",
    "        model.fit(self.X_train, self.y_train)\n",
    "        \n",
    "        # Realizar predicciones\n",
    "        y_pred_train = model.predict(self.X_train)\n",
    "        y_pred_test = model.predict(self.X_test)\n",
    "        \n",
    "        # Calcular precisión\n",
    "        train_accuracy = accuracy_score(self.y_train, y_pred_train)\n",
    "        test_accuracy = accuracy_score(self.y_test, y_pred_test)\n",
    "        \n",
    "        # Guardar modelo y métricas\n",
    "        self.models[kernel] = {\n",
    "            'model': model,\n",
    "            'train_accuracy': train_accuracy,\n",
    "            'test_accuracy': test_accuracy,\n",
    "            'y_pred_train': y_pred_train,\n",
    "            'y_pred_test': y_pred_test\n",
    "        }\n",
    "        \n",
    "        print(f\"  Precisión entrenamiento: {train_accuracy:.4f}\")\n",
    "        print(f\"  Precisión prueba: {test_accuracy:.4f}\")\n",
    "    \n",
    "    return self.models\n",
    "\n",
    "def optimize_hyperparameters(self, kernel='rbf'):\n",
    "    \"\"\"\n",
    "    Optimiza los hiperparámetros del modelo SVM usando GridSearchCV.\n",
    "    \n",
    "    Parameters:\n",
    "    -----------\n",
    "    kernel : str, default='rbf'\n",
    "        Kernel a optimizar\n",
    "        \n",
    "    Returns:\n",
    "    --------\n",
    "    sklearn.model_selection.GridSearchCV\n",
    "        Objeto GridSearchCV con los mejores parámetros\n",
    "    \"\"\"\n",
    "    if self.X_train is None:\n",
    "        print(\"Error: Datos no divididos. Ejecute split_data() primero.\")\n",
    "        return None\n",
    "    \n",
    "    print(\"=\" * 50)\n",
    "    print(f\"OPTIMIZACIÓN DE HIPERPARÁMETROS - KERNEL {kernel.upper()}\")\n",
    "    print(\"=\" * 50)\n",
    "    \n",
    "    # Definir parámetros a optimizar según el kernel\n",
    "    if kernel == 'rbf':\n",
    "        param_grid = {\n",
    "            'C': [0.1, 1, 10, 100],\n",
    "            'gamma': ['scale', 'auto', 0.001, 0.01, 0.1, 1]\n",
    "        }\n",
    "    elif kernel == 'poly':\n",
    "        param_grid = {\n",
    "            'C': [0.1, 1, 10, 100],\n",
    "            'degree': [2, 3, 4, 5],\n",
    "            'gamma': ['scale', 'auto']\n",
    "        }\n",
    "    elif kernel == 'linear':\n",
    "        param_grid = {\n",
    "            'C': [0.1, 1, 10, 100]\n",
    "        }\n",
    "    else:  # sigmoid\n",
    "        param_grid = {\n",
    "            'C': [0.1, 1, 10, 100],\n",
    "            'gamma': ['scale', 'auto', 0.001, 0.01, 0.1, 1]\n",
    "        }\n",
    "    \n",
    "    # Crear modelo base\n",
    "    svm_model = SVC(kernel=kernel, random_state=42)\n",
    "    \n",
    "    # Realizar búsqueda en grilla\n",
    "    grid_search = GridSearchCV(\n",
    "        svm_model, \n",
    "        param_grid, \n",
    "        cv=5, \n",
    "        scoring='accuracy',\n",
    "        n_jobs=-1,\n",
    "        verbose=1\n",
    "    )\n",
    "    \n",
    "    print(\"Iniciando búsqueda de hiperparámetros...\")\n",
    "    grid_search.fit(self.X_train, self.y_train)\n",
    "    \n",
    "    # Guardar el mejor modelo\n",
    "    self.best_model = grid_search.best_estimator_\n",
    "    \n",
    "    print(f\"\\nMejores parámetros encontrados:\")\n",
    "    for param, value in grid_search.best_params_.items():\n",
    "        print(f\"  {param}: {value}\")\n",
    "    \n",
    "    print(f\"\\nMejor puntuación CV: {grid_search.best_score_:.4f}\")\n",
    "    \n",
    "    # Evaluar en conjunto de prueba\n",
    "    y_pred_test = self.best_model.predict(self.X_test)\n",
    "    test_accuracy = accuracy_score(self.y_test, y_pred_test)\n",
    "    print(f\"Precisión en conjunto de prueba: {test_accuracy:.4f}\")\n",
    "    \n",
    "    return grid_search\n",
    "\n",
    "# Agregar métodos a la clase\n",
    "SVMClassifier.train_svm_models = train_svm_models\n",
    "SVMClassifier.optimize_hyperparameters = optimize_hyperparameters\n",
    "\n",
    "print(\"✅ Métodos de entrenamiento agregados a la clase\")"
   ]
  },
  {
   "cell_type": "markdown",
   "metadata": {},
   "source": [
    "## 5. Métodos de Evaluación y Visualización"
   ]
  },
  {
   "cell_type": "code",
   "execution_count": 19,
   "metadata": {},
   "outputs": [
    {
     "name": "stdout",
     "output_type": "stream",
     "text": [
      "✅ Métodos de evaluación agregados a la clase\n"
     ]
    }
   ],
   "source": [
    "# Continuación de la clase SVMClassifier - Métodos de evaluación\n",
    "\n",
    "def evaluate_model(self, model_name='best'):\n",
    "    \"\"\"\n",
    "    Evalúa el rendimiento del modelo especificado.\n",
    "    \n",
    "    Parameters:\n",
    "    -----------\n",
    "    model_name : str, default='best'\n",
    "        Nombre del modelo a evaluar ('best' para el mejor modelo optimizado)\n",
    "    \"\"\"\n",
    "    if model_name == 'best':\n",
    "        if self.best_model is None:\n",
    "            print(\"Error: No hay modelo optimizado. Ejecute optimize_hyperparameters() primero.\")\n",
    "            return\n",
    "        model = self.best_model\n",
    "        model_title = \"Mejor Modelo (Optimizado)\"\n",
    "    else:\n",
    "        if model_name not in self.models:\n",
    "            print(f\"Error: Modelo '{model_name}' no encontrado.\")\n",
    "            return\n",
    "        model = self.models[model_name]['model']\n",
    "        model_title = f\"Modelo SVM - Kernel {model_name}\"\n",
    "    \n",
    "    # Realizar predicciones\n",
    "    y_pred_test = model.predict(self.X_test)\n",
    "    \n",
    "    print(\"=\" * 50)\n",
    "    print(f\"EVALUACIÓN DEL MODELO: {model_title}\")\n",
    "    print(\"=\" * 50)\n",
    "    \n",
    "    # Precisión\n",
    "    accuracy = accuracy_score(self.y_test, y_pred_test)\n",
    "    print(f\"Precisión: {accuracy:.4f}\")\n",
    "    \n",
    "    # Reporte de clasificación\n",
    "    print(f\"\\nReporte de clasificación:\")\n",
    "    print(classification_report(self.y_test, y_pred_test))\n",
    "    \n",
    "    # Matriz de confusión\n",
    "    cm = confusion_matrix(self.y_test, y_pred_test)\n",
    "    print(f\"\\nMatriz de confusión:\")\n",
    "    print(cm)\n",
    "    \n",
    "    # Visualizar matriz de confusión\n",
    "    plt.figure(figsize=(8, 6))\n",
    "    sns.heatmap(cm, annot=True, fmt='d', cmap='Blues', \n",
    "               xticklabels=['Clase 0', 'Clase 1'],\n",
    "               yticklabels=['Clase 0', 'Clase 1'])\n",
    "    plt.title(f'Matriz de Confusión - {model_title}')\n",
    "    plt.ylabel('Valor Real')\n",
    "    plt.xlabel('Predicción')\n",
    "    plt.show()\n",
    "\n",
    "def plot_decision_regions(self, model_name='best', save_plot=False, \n",
    "                        filename='decision_regions.png'):\n",
    "    \"\"\"\n",
    "    Visualiza las regiones de decisión del modelo.\n",
    "    \n",
    "    Parameters:\n",
    "    -----------\n",
    "    model_name : str, default='best'\n",
    "        Nombre del modelo a visualizar\n",
    "    save_plot : bool, default=False\n",
    "        Si True, guarda el gráfico\n",
    "    filename : str, default='decision_regions.png'\n",
    "        Nombre del archivo para guardar\n",
    "    \"\"\"\n",
    "    if model_name == 'best':\n",
    "        if self.best_model is None:\n",
    "            print(\"Error: No hay modelo optimizado. Ejecute optimize_hyperparameters() primero.\")\n",
    "            return\n",
    "        model = self.best_model\n",
    "        title = \"Regiones de Decisión - Mejor Modelo\"\n",
    "    else:\n",
    "        if model_name not in self.models:\n",
    "            print(f\"Error: Modelo '{model_name}' no encontrado.\")\n",
    "            return\n",
    "        model = self.models[model_name]['model']\n",
    "        title = f\"Regiones de Decisión - Kernel {model_name}\"\n",
    "    \n",
    "    plt.figure(figsize=(12, 8))\n",
    "    \n",
    "    # Plotear regiones de decisión\n",
    "    plot_decision_regions(self.X_test, self.y_test, clf=model, legend=2)\n",
    "    \n",
    "    plt.xlabel('X1', fontsize=12)\n",
    "    plt.ylabel('X2', fontsize=12)\n",
    "    plt.title(title, fontsize=14, fontweight='bold')\n",
    "    \n",
    "    if save_plot:\n",
    "        plt.savefig(filename, dpi=300, bbox_inches='tight')\n",
    "        print(f\"Gráfico guardado como: {filename}\")\n",
    "    \n",
    "    plt.show()\n",
    "\n",
    "def compare_models(self):\n",
    "    \"\"\"\n",
    "    Compara el rendimiento de todos los modelos entrenados.\n",
    "    \"\"\"\n",
    "    if not self.models:\n",
    "        print(\"Error: No hay modelos entrenados. Ejecute train_svm_models() primero.\")\n",
    "        return\n",
    "    \n",
    "    print(\"=\" * 60)\n",
    "    print(\"COMPARACIÓN DE MODELOS\")\n",
    "    print(\"=\" * 60)\n",
    "    \n",
    "    results = []\n",
    "    for kernel, model_info in self.models.items():\n",
    "        results.append({\n",
    "            'Kernel': kernel,\n",
    "            'Precisión Entrenamiento': model_info['train_accuracy'],\n",
    "            'Precisión Prueba': model_info['test_accuracy'],\n",
    "            'Diferencia': model_info['train_accuracy'] - model_info['test_accuracy']\n",
    "        })\n",
    "    \n",
    "    # Crear DataFrame para mejor visualización\n",
    "    df_results = pd.DataFrame(results)\n",
    "    df_results = df_results.sort_values('Precisión Prueba', ascending=False)\n",
    "    \n",
    "    print(df_results.to_string(index=False, float_format='%.4f'))\n",
    "    \n",
    "    # Gráfico de barras comparativo\n",
    "    plt.figure(figsize=(12, 6))\n",
    "    \n",
    "    x = np.arange(len(df_results))\n",
    "    width = 0.35\n",
    "    \n",
    "    plt.bar(x - width/2, df_results['Precisión Entrenamiento'], \n",
    "           width, label='Entrenamiento', alpha=0.8)\n",
    "    plt.bar(x + width/2, df_results['Precisión Prueba'], \n",
    "           width, label='Prueba', alpha=0.8)\n",
    "    \n",
    "    plt.xlabel('Kernel')\n",
    "    plt.ylabel('Precisión')\n",
    "    plt.title('Comparación de Precisión por Kernel')\n",
    "    plt.xticks(x, df_results['Kernel'])\n",
    "    plt.legend()\n",
    "    plt.grid(True, alpha=0.3)\n",
    "    \n",
    "    plt.tight_layout()\n",
    "    plt.show()\n",
    "    \n",
    "    return df_results\n",
    "\n",
    "# Agregar métodos a la clase\n",
    "SVMClassifier.evaluate_model = evaluate_model\n",
    "SVMClassifier.plot_decision_regions = plot_decision_regions\n",
    "SVMClassifier.compare_models = compare_models\n",
    "\n",
    "print(\"✅ Métodos de evaluación agregados a la clase\")"
   ]
  },
  {
   "cell_type": "markdown",
   "metadata": {},
   "source": [
    "## 6. Análisis Experimental\n",
    "\n",
    "### 6.1 Carga y Exploración de Datos"
   ]
  },
  {
   "cell_type": "code",
   "execution_count": 20,
   "metadata": {},
   "outputs": [
    {
     "name": "stdout",
     "output_type": "stream",
     "text": [
      "📊 CARGANDO DATOS...\n",
      "Datos cargados exitosamente. Forma: (200, 3)\n",
      "\n",
      "Primeras 5 filas:\n",
      "         X1        X2  y\n",
      "0  2.526093  0.321050  0\n",
      "1  0.366954  0.031462  0\n",
      "2  0.768219  0.717486  0\n",
      "3  0.693436  0.777194  0\n",
      "4 -0.019837  0.867254  0\n"
     ]
    },
    {
     "data": {
      "text/html": [
       "<div>\n",
       "<style scoped>\n",
       "    .dataframe tbody tr th:only-of-type {\n",
       "        vertical-align: middle;\n",
       "    }\n",
       "\n",
       "    .dataframe tbody tr th {\n",
       "        vertical-align: top;\n",
       "    }\n",
       "\n",
       "    .dataframe thead th {\n",
       "        text-align: right;\n",
       "    }\n",
       "</style>\n",
       "<table border=\"1\" class=\"dataframe\">\n",
       "  <thead>\n",
       "    <tr style=\"text-align: right;\">\n",
       "      <th></th>\n",
       "      <th>X1</th>\n",
       "      <th>X2</th>\n",
       "      <th>y</th>\n",
       "    </tr>\n",
       "  </thead>\n",
       "  <tbody>\n",
       "    <tr>\n",
       "      <th>0</th>\n",
       "      <td>2.526093</td>\n",
       "      <td>0.321050</td>\n",
       "      <td>0</td>\n",
       "    </tr>\n",
       "    <tr>\n",
       "      <th>1</th>\n",
       "      <td>0.366954</td>\n",
       "      <td>0.031462</td>\n",
       "      <td>0</td>\n",
       "    </tr>\n",
       "    <tr>\n",
       "      <th>2</th>\n",
       "      <td>0.768219</td>\n",
       "      <td>0.717486</td>\n",
       "      <td>0</td>\n",
       "    </tr>\n",
       "    <tr>\n",
       "      <th>3</th>\n",
       "      <td>0.693436</td>\n",
       "      <td>0.777194</td>\n",
       "      <td>0</td>\n",
       "    </tr>\n",
       "    <tr>\n",
       "      <th>4</th>\n",
       "      <td>-0.019837</td>\n",
       "      <td>0.867254</td>\n",
       "      <td>0</td>\n",
       "    </tr>\n",
       "    <tr>\n",
       "      <th>...</th>\n",
       "      <td>...</td>\n",
       "      <td>...</td>\n",
       "      <td>...</td>\n",
       "    </tr>\n",
       "    <tr>\n",
       "      <th>195</th>\n",
       "      <td>0.256750</td>\n",
       "      <td>2.293605</td>\n",
       "      <td>1</td>\n",
       "    </tr>\n",
       "    <tr>\n",
       "      <th>196</th>\n",
       "      <td>1.925173</td>\n",
       "      <td>0.165053</td>\n",
       "      <td>1</td>\n",
       "    </tr>\n",
       "    <tr>\n",
       "      <th>197</th>\n",
       "      <td>1.301941</td>\n",
       "      <td>0.992200</td>\n",
       "      <td>1</td>\n",
       "    </tr>\n",
       "    <tr>\n",
       "      <th>198</th>\n",
       "      <td>0.008131</td>\n",
       "      <td>2.242264</td>\n",
       "      <td>1</td>\n",
       "    </tr>\n",
       "    <tr>\n",
       "      <th>199</th>\n",
       "      <td>-0.196246</td>\n",
       "      <td>0.551404</td>\n",
       "      <td>1</td>\n",
       "    </tr>\n",
       "  </tbody>\n",
       "</table>\n",
       "<p>200 rows × 3 columns</p>\n",
       "</div>"
      ],
      "text/plain": [
       "           X1        X2  y\n",
       "0    2.526093  0.321050  0\n",
       "1    0.366954  0.031462  0\n",
       "2    0.768219  0.717486  0\n",
       "3    0.693436  0.777194  0\n",
       "4   -0.019837  0.867254  0\n",
       "..        ...       ... ..\n",
       "195  0.256750  2.293605  1\n",
       "196  1.925173  0.165053  1\n",
       "197  1.301941  0.992200  1\n",
       "198  0.008131  2.242264  1\n",
       "199 -0.196246  0.551404  1\n",
       "\n",
       "[200 rows x 3 columns]"
      ]
     },
     "execution_count": 20,
     "metadata": {},
     "output_type": "execute_result"
    }
   ],
   "source": [
    "# Crear instancia del clasificador\n",
    "svm_classifier = SVMClassifier()\n",
    "\n",
    "# Cargar datos\n",
    "print(\"📊 CARGANDO DATOS...\")\n",
    "svm_classifier.load_data()"
   ]
  },
  {
   "cell_type": "code",
   "execution_count": 21,
   "metadata": {},
   "outputs": [
    {
     "name": "stdout",
     "output_type": "stream",
     "text": [
      "==================================================\n",
      "ANÁLISIS EXPLORATORIO DE DATOS\n",
      "==================================================\n",
      "\n",
      "Forma del dataset: (200, 3)\n",
      "\n",
      "Tipos de datos:\n",
      "X1    float64\n",
      "X2    float64\n",
      "y       int64\n",
      "dtype: object\n",
      "\n",
      "Estadísticas descriptivas:\n",
      "               X1          X2           y\n",
      "count  200.000000  200.000000  200.000000\n",
      "mean     0.784672    0.756016    0.500000\n",
      "std      1.297582    1.026442    0.501255\n",
      "min     -2.520820   -1.999853    0.000000\n",
      "25%     -0.071465    0.095555    0.000000\n",
      "50%      0.859702    0.861387    0.500000\n",
      "75%      1.543438    1.435275    1.000000\n",
      "max      4.170746    2.855805    1.000000\n",
      "\n",
      "Distribución de clases:\n",
      "y\n",
      "0    100\n",
      "1    100\n",
      "Name: count, dtype: int64\n",
      "\n",
      "Valores faltantes:\n",
      "X1    0\n",
      "X2    0\n",
      "y     0\n",
      "dtype: int64\n"
     ]
    }
   ],
   "source": [
    "# Análisis exploratorio\n",
    "svm_classifier.explore_data()"
   ]
  },
  {
   "cell_type": "markdown",
   "metadata": {},
   "source": [
    "### 6.2 Visualización de los Datos"
   ]
  },
  {
   "cell_type": "code",
   "execution_count": 22,
   "metadata": {},
   "outputs": [
    {
     "data": {
      "image/png": "[encoded data removed]",
      "text/plain": [
       "<Figure size 1000x800 with 1 Axes>"
      ]
     },
     "metadata": {},
     "output_type": "display_data"
    }
   ],
   "source": [
    "# Visualizar distribución de datos\n",
    "svm_classifier.visualize_data()"
   ]
  },
  {
   "cell_type": "markdown",
   "metadata": {},
   "source": [
    "### 6.3 División de Datos"
   ]
  },
  {
   "cell_type": "code",
   "execution_count": 23,
   "metadata": {},
   "outputs": [
    {
     "name": "stdout",
     "output_type": "stream",
     "text": [
      "Datos divididos:\n",
      "  - Entrenamiento: 160 muestras\n",
      "  - Prueba: 40 muestras\n"
     ]
    }
   ],
   "source": [
    "# Dividir datos en entrenamiento y prueba\n",
    "svm_classifier.split_data(test_size=0.2, random_state=42)"
   ]
  },
  {
   "cell_type": "markdown",
   "metadata": {},
   "source": [
    "## 7. Entrenamiento de Modelos\n",
    "\n",
    "### 7.1 Entrenamiento con Diferentes Kernels"
   ]
  },
  {
   "cell_type": "code",
   "execution_count": 24,
   "metadata": {},
   "outputs": [
    {
     "name": "stdout",
     "output_type": "stream",
     "text": [
      "==================================================\n",
      "ENTRENAMIENTO DE MODELOS SVM\n",
      "==================================================\n",
      "\n",
      "Entrenando SVM con kernel linear...\n",
      "  Precisión entrenamiento: 0.7188\n",
      "  Precisión prueba: 0.7750\n",
      "\n",
      "Entrenando SVM con kernel poly...\n",
      "  Precisión entrenamiento: 0.6625\n",
      "  Precisión prueba: 0.6000\n",
      "\n",
      "Entrenando SVM con kernel rbf...\n",
      "  Precisión entrenamiento: 0.7688\n",
      "  Precisión prueba: 0.8000\n",
      "\n",
      "Entrenando SVM con kernel sigmoid...\n",
      "  Precisión entrenamiento: 0.6562\n",
      "  Precisión prueba: 0.6000\n"
     ]
    }
   ],
   "source": [
    "# Entrenar modelos con diferentes kernels\n",
    "models = svm_classifier.train_svm_models()"
   ]
  },
  {
   "cell_type": "markdown",
   "metadata": {},
   "source": [
    "### 7.2 Comparación de Modelos"
   ]
  },
  {
   "cell_type": "code",
   "execution_count": 25,
   "metadata": {},
   "outputs": [
    {
     "name": "stdout",
     "output_type": "stream",
     "text": [
      "============================================================\n",
      "COMPARACIÓN DE MODELOS\n",
      "============================================================\n",
      " Kernel  Precisión Entrenamiento  Precisión Prueba  Diferencia\n",
      "    rbf                   0.7688            0.8000     -0.0312\n",
      " linear                   0.7188            0.7750     -0.0563\n",
      "   poly                   0.6625            0.6000      0.0625\n",
      "sigmoid                   0.6562            0.6000      0.0563\n"
     ]
    },
    {
     "data": {
      "image/png": "[encoded data removed]",
      "text/plain": [
       "<Figure size 1200x600 with 1 Axes>"
      ]
     },
     "metadata": {},
     "output_type": "display_data"
    }
   ],
   "source": [
    "# Comparar rendimiento de todos los modelos\n",
    "comparison_results = svm_classifier.compare_models()"
   ]
  },
  {
   "cell_type": "markdown",
   "metadata": {},
   "source": [
    "## 8. Optimización de Hiperparámetros\n",
    "\n",
    "### 8.1 Optimización del Kernel RBF"
   ]
  },
  {
   "cell_type": "code",
   "execution_count": 26,
   "metadata": {},
   "outputs": [
    {
     "name": "stdout",
     "output_type": "stream",
     "text": [
      "==================================================\n",
      "OPTIMIZACIÓN DE HIPERPARÁMETROS - KERNEL RBF\n",
      "==================================================\n",
      "Iniciando búsqueda de hiperparámetros...\n",
      "Fitting 5 folds for each of 24 candidates, totalling 120 fits\n",
      "\n",
      "Mejores parámetros encontrados:\n",
      "  C: 1\n",
      "  gamma: 1\n",
      "\n",
      "Mejor puntuación CV: 0.8187\n",
      "Precisión en conjunto de prueba: 0.8750\n"
     ]
    }
   ],
   "source": [
    "# Optimizar hiperparámetros del kernel RBF\n",
    "grid_search = svm_classifier.optimize_hyperparameters(kernel='rbf')"
   ]
  },
  {
   "cell_type": "markdown",
   "metadata": {},
   "source": [
    "## 9. Evaluación del Modelo Final\n",
    "\n",
    "### 9.1 Métricas de Rendimiento"
   ]
  },
  {
   "cell_type": "code",
   "execution_count": 27,
   "metadata": {},
   "outputs": [
    {
     "name": "stdout",
     "output_type": "stream",
     "text": [
      "==================================================\n",
      "EVALUACIÓN DEL MODELO: Mejor Modelo (Optimizado)\n",
      "==================================================\n",
      "Precisión: 0.8750\n",
      "\n",
      "Reporte de clasificación:\n",
      "              precision    recall  f1-score   support\n",
      "\n",
      "           0       0.86      0.90      0.88        20\n",
      "           1       0.89      0.85      0.87        20\n",
      "\n",
      "    accuracy                           0.88        40\n",
      "   macro avg       0.88      0.88      0.87        40\n",
      "weighted avg       0.88      0.88      0.87        40\n",
      "\n",
      "\n",
      "Matriz de confusión:\n",
      "[[18  2]\n",
      " [ 3 17]]\n"
     ]
    },
    {
     "data": {
      "image/png": "[encoded data removed]",
      "text/plain": [
       "<Figure size 800x600 with 2 Axes>"
      ]
     },
     "metadata": {},
     "output_type": "display_data"
    }
   ],
   "source": [
    "# Evaluar el mejor modelo\n",
    "svm_classifier.evaluate_model(model_name='best')"
   ]
  },
  {
   "cell_type": "markdown",
   "metadata": {},
   "source": [
    "### plot_decision_regions(self.X_test, self.y_test, clf=model, legend=2)9.2 Visualización de Regiones de Decisión"
   ]
  },
  {
   "cell_type": "code",
   "execution_count": 32,
   "metadata": {},
   "outputs": [
    {
     "ename": "NameError",
     "evalue": "name 'self' is not defined",
     "output_type": "error",
     "traceback": [
      "\u001b[31m---------------------------------------------------------------------------\u001b[39m",
      "\u001b[31mNameError\u001b[39m                                 Traceback (most recent call last)",
      "\u001b[36mCell\u001b[39m\u001b[36m \u001b[39m\u001b[32mIn[32]\u001b[39m\u001b[32m, line 3\u001b[39m\n\u001b[32m      1\u001b[39m \u001b[38;5;66;03m# Visualizar regiones de decisión del mejor modelo\u001b[39;00m\n\u001b[32m      2\u001b[39m \u001b[38;5;66;03m# Visualizar regiones de decisión del mejor modelo\u001b[39;00m\n\u001b[32m----> \u001b[39m\u001b[32m3\u001b[39m svm_classifier.plot_decision_regions(\u001b[38;5;28;43mself\u001b[39;49m.X_test, \u001b[38;5;28mself\u001b[39m.y_test, model, legend=\u001b[32m2\u001b[39m)\n",
      "\u001b[31mNameError\u001b[39m: name 'self' is not defined"
     ]
    }
   ],
   "source": [
    "# Visualizar regiones de decisión del mejor modelo\n",
    "# Visualizar regiones de decisión del mejor modelo\n",
    "svm_classifier.plot_decision_regions(self.X_test, self.y_test, model, legend=2)"
   ]
  },
  {
   "cell_type": "markdown",
   "metadata": {},
   "source": [
    "### 9.3 Comparación Visual de Kernels"
   ]
  },
  {
   "cell_type": "code",
   "execution_count": 15,
   "metadata": {},
   "outputs": [
    {
     "ename": "TypeError",
     "evalue": "plot_decision_regions() got an unexpected keyword argument 'X'",
     "output_type": "error",
     "traceback": [
      "\u001b[31m---------------------------------------------------------------------------\u001b[39m",
      "\u001b[31mTypeError\u001b[39m                                 Traceback (most recent call last)",
      "\u001b[36mCell\u001b[39m\u001b[36m \u001b[39m\u001b[32mIn[15]\u001b[39m\u001b[32m, line 13\u001b[39m\n\u001b[32m     10\u001b[39m model = svm_classifier.models[kernel][\u001b[33m'\u001b[39m\u001b[33mmodel\u001b[39m\u001b[33m'\u001b[39m]\n\u001b[32m     12\u001b[39m \u001b[38;5;66;03m# Plotear regiones de decisión\u001b[39;00m\n\u001b[32m---> \u001b[39m\u001b[32m13\u001b[39m \u001b[43mplot_decision_regions\u001b[49m\u001b[43m(\u001b[49m\u001b[43mX\u001b[49m\u001b[43m=\u001b[49m\u001b[43msvm_classifier\u001b[49m\u001b[43m.\u001b[49m\u001b[43mX_test\u001b[49m\u001b[43m,\u001b[49m\u001b[43m \u001b[49m\u001b[43my\u001b[49m\u001b[43m=\u001b[49m\u001b[43msvm_classifier\u001b[49m\u001b[43m.\u001b[49m\u001b[43my_test\u001b[49m\u001b[43m,\u001b[49m\u001b[43m \u001b[49m\n\u001b[32m     14\u001b[39m \u001b[43m                    \u001b[49m\u001b[43mclf\u001b[49m\u001b[43m=\u001b[49m\u001b[43mmodel\u001b[49m\u001b[43m,\u001b[49m\u001b[43m \u001b[49m\u001b[43mlegend\u001b[49m\u001b[43m=\u001b[49m\u001b[32;43m2\u001b[39;49m\u001b[43m,\u001b[49m\u001b[43m \u001b[49m\u001b[43max\u001b[49m\u001b[43m=\u001b[49m\u001b[43maxes\u001b[49m\u001b[43m[\u001b[49m\u001b[43mi\u001b[49m\u001b[43m]\u001b[49m\u001b[43m)\u001b[49m\n\u001b[32m     16\u001b[39m axes[i].set_title(\u001b[33mf\u001b[39m\u001b[33m'\u001b[39m\u001b[33mKernel: \u001b[39m\u001b[38;5;132;01m{\u001b[39;00mkernel.upper()\u001b[38;5;132;01m}\u001b[39;00m\u001b[33m'\u001b[39m, fontsize=\u001b[32m12\u001b[39m, fontweight=\u001b[33m'\u001b[39m\u001b[33mbold\u001b[39m\u001b[33m'\u001b[39m)\n\u001b[32m     17\u001b[39m axes[i].set_xlabel(\u001b[33m'\u001b[39m\u001b[33mX1\u001b[39m\u001b[33m'\u001b[39m)\n",
      "\u001b[31mTypeError\u001b[39m: plot_decision_regions() got an unexpected keyword argument 'X'"
     ]
    },
    {
     "data": {
      "image/png": "[encoded data removed]",
      "text/plain": [
       "<Figure size 1500x1200 with 4 Axes>"
      ]
     },
     "metadata": {},
     "output_type": "display_data"
    }
   ],
   "source": [
    "# Visualizar regiones de decisión para diferentes kernels\n",
    "kernels = ['linear', 'poly', 'rbf', 'sigmoid']\n",
    "\n",
    "fig, axes = plt.subplots(2, 2, figsize=(15, 12))\n",
    "axes = axes.ravel()\n",
    "\n",
    "for i, kernel in enumerate(kernels):\n",
    "    if kernel in svm_classifier.models:\n",
    "        plt.sca(axes[i])\n",
    "        model = svm_classifier.models[kernel]['model']\n",
    "        \n",
    "        # Plotear regiones de decisión\n",
    "        plot_decision_regions(X=svm_classifier.X_test, y=svm_classifier.y_test, \n",
    "                            clf=model, legend=2, ax=axes[i])\n",
    "        \n",
    "        axes[i].set_title(f'Kernel: {kernel.upper()}', fontsize=12, fontweight='bold')\n",
    "        axes[i].set_xlabel('X1')\n",
    "        axes[i].set_ylabel('X2')\n",
    "\n",
    "plt.tight_layout()\n",
    "plt.show()"
   ]
  },
  {
   "cell_type": "markdown",
   "metadata": {},
   "source": [
    "## 10. Resultados y Análisis\n",
    "\n",
    "### 10.1 Resumen de Resultados"
   ]
  },
  {
   "cell_type": "code",
   "execution_count": null,
   "metadata": {},
   "outputs": [],
   "source": [
    "# Crear tabla resumen de resultados\n",
    "print(\"📊 RESUMEN DE RESULTADOS\")\n",
    "print(\"=\" * 50)\n",
    "\n",
    "if hasattr(svm_classifier, 'best_model') and svm_classifier.best_model is not None:\n",
    "    # Información del mejor modelo\n",
    "    best_params = svm_classifier.best_model.get_params()\n",
    "    y_pred_best = svm_classifier.best_model.predict(svm_classifier.X_test)\n",
    "    best_accuracy = accuracy_score(svm_classifier.y_test, y_pred_best)\n",
    "    \n",
    "    print(f\"\\n🏆 MEJOR MODELO:\")\n",
    "    print(f\"   Kernel: {best_params['kernel']}\")\n",
    "    print(f\"   C: {best_params['C']}\")\n",
    "    if 'gamma' in best_params:\n",
    "        print(f\"   Gamma: {best_params['gamma']}\")\n",
    "    print(f\"   Precisión: {best_accuracy:.4f}\")\n",
    "\n",
    "# Mostrar tabla de comparación\n",
    "if hasattr(svm_classifier, 'models') and svm_classifier.models:\n",
    "    print(f\"\\n📈 COMPARACIÓN DE KERNELS:\")\n",
    "    print(comparison_results.to_string(index=False, float_format='%.4f'))"
   ]
  },
  {
   "cell_type": "markdown",
   "metadata": {},
   "source": [
    "## 11. Conclusiones\n",
    "\n",
    "### 11.1 Análisis de Resultados\n",
    "\n",
    "Basándose en los resultados obtenidos, podemos extraer las siguientes conclusiones:\n",
    "\n",
    "1. **Rendimiento por Kernel:**\n",
    "   - El kernel **RBF** generalmente muestra el mejor rendimiento para datos no linealmente separables\n",
    "   - El kernel **lineal** es efectivo cuando los datos son linealmente separables\n",
    "   - Los kernels **polinomial** y **sigmoid** pueden ser útiles en casos específicos\n",
    "\n",
    "2. **Optimización de Hiperparámetros:**\n",
    "   - La optimización de hiperparámetros mejora significativamente el rendimiento\n",
    "   - El parámetro **C** controla el trade-off entre margen y error de clasificación\n",
    "   - El parámetro **gamma** afecta la complejidad del modelo en kernels RBF\n",
    "\n",
    "3. **Visualización de Regiones de Decisión:**\n",
    "   - Las regiones de decisión muestran cómo cada kernel separa las clases\n",
    "   - Los kernels no lineales pueden capturar patrones más complejos\n",
    "\n",
    "### 11.2 Recomendaciones\n",
    "\n",
    "1. **Selección de Kernel:**\n",
    "   - Comenzar con kernel RBF como baseline\n",
    "   - Probar kernel lineal si se sospecha separabilidad lineal\n",
    "   - Usar validación cruzada para selección final\n",
    "\n",
    "2. **Optimización:**\n",
    "   - Siempre optimizar hiperparámetros usando GridSearchCV\n",
    "   - Considerar RandomizedSearchCV para espacios de parámetros grandes\n",
    "   - Usar validación cruzada estratificada\n",
    "\n",
    "3. **Evaluación:**\n",
    "   - No basarse únicamente en la precisión\n",
    "   - Considerar precision, recall y F1-score\n",
    "   - Analizar la matriz de confusión\n",
    "\n",
    "### 11.3 Limitaciones y Trabajo Futuro\n",
    "\n",
    "**Limitaciones:**\n",
    "- SVM puede ser sensible a la escala de las características\n",
    "- Tiempo de entrenamiento puede ser alto para datasets grandes\n",
    "- Interpretabilidad limitada comparado con otros algoritmos\n",
    "\n",
    "**Trabajo Futuro:**\n",
    "- Implementar preprocesamiento de datos (normalización/estandarización)\n",
    "- Probar con datasets de mayor dimensionalidad\n",
    "- Comparar con otros algoritmos de clasificación\n",
    "- Implementar técnicas de reducción de dimensionalidad"
   ]
  },
  {
   "cell_type": "markdown",
   "metadata": {},
   "source": [
    "## 12. Referencias\n",
    "\n",
    "1. **Documentación Oficial:**\n",
    "   - [Scikit-learn SVM Documentation](https://scikit-learn.org/stable/modules/svm.html)\n",
    "   - [Support Vector Machines - Scikit-learn User Guide](https://scikit-learn.org/stable/modules/svm.html)\n",
    "\n",
    "2. **Fuentes Académicas:**\n",
    "   - Cortes, C., & Vapnik, V. (1995). Support-vector networks. Machine learning, 20(3), 273-297.\n",
    "   - Cristianini, N., & Shawe-Taylor, J. (2000). An introduction to support vector machines and other kernel-based learning methods.\n",
    "\n",
    "3. **Recursos Online:**\n",
    "   - [Ciencia de Datos - SVM Python](https://cienciadedatos.net/documentos/py24-svm-python)\n",
    "   - [MLxtend - Plot Decision Regions](http://rasbt.github.io/mlxtend/user_guide/plotting/plot_decision_regions/)\n",
    "\n",
    "---\n",
    "\n",
    "**Fin del Reporte**\n",
    "\n",
    "*Este notebook fue generado como parte del curso de Aprendizaje Automático en la Maestría en IA.*"
   ]
  }
 ],
 "metadata": {
  "kernelspec": {
   "display_name": "Python 3 (ipykernel)",
   "language": "python",
   "name": "python3"
  },
  "language_info": {
   "codemirror_mode": {
    "name": "ipython",
    "version": 3
   },
   "file_extension": ".py",
   "mimetype": "text/x-python",
   "name": "python",
   "nbconvert_exporter": "python",
   "pygments_lexer": "ipython3",
   "version": "3.11.13"
  }
 },
 "nbformat": 4,
 "nbformat_minor": 4
}
